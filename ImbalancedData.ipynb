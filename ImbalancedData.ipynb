{
 "cells": [
  {
   "cell_type": "code",
   "execution_count": 60,
   "id": "87a524b8-ffef-4935-89b5-50a3e2a526da",
   "metadata": {},
   "outputs": [],
   "source": [
    "import pandas as pd\n",
    "import numpy as np\n",
    "import matplotlib.pyplot as plt\n",
    "import seaborn as sns\n",
    "import matplotlib.pyplot as plt\n",
    "import seaborn as sns\n",
    "import warnings; warnings.filterwarnings('ignore')\n",
    "\n",
    "#Train models libraries\n",
    "from sklearn.model_selection import train_test_split\n",
    "from sklearn.preprocessing import StandardScaler\n",
    "from sklearn.tree import DecisionTreeClassifier\n",
    "from sklearn.linear_model import LogisticRegression\n",
    "from sklearn.ensemble import RandomForestClassifier\n",
    "from xgboost import XGBClassifier\n",
    "\n",
    "\n",
    "#Evaluation librarties\n",
    "from sklearn.metrics import accuracy_score, balanced_accuracy_score, precision_score, recall_score, f1_score, roc_auc_score, confusion_matrix, ConfusionMatrixDisplay\n",
    "\n",
    "#Save models\n",
    "from joblib import dump"
   ]
  },
  {
   "cell_type": "code",
   "execution_count": 13,
   "id": "11832316-1fb0-4d6c-95e6-a1e0695d023e",
   "metadata": {},
   "outputs": [
    {
     "name": "stdout",
     "output_type": "stream",
     "text": [
      "Dataset shape: (131400, 13)\n"
     ]
    },
    {
     "data": {
      "text/html": [
       "<div>\n",
       "<style scoped>\n",
       "    .dataframe tbody tr th:only-of-type {\n",
       "        vertical-align: middle;\n",
       "    }\n",
       "\n",
       "    .dataframe tbody tr th {\n",
       "        vertical-align: top;\n",
       "    }\n",
       "\n",
       "    .dataframe thead th {\n",
       "        text-align: right;\n",
       "    }\n",
       "</style>\n",
       "<table border=\"1\" class=\"dataframe\">\n",
       "  <thead>\n",
       "    <tr style=\"text-align: right;\">\n",
       "      <th></th>\n",
       "      <th>Unnamed: 0</th>\n",
       "      <th>SOC</th>\n",
       "      <th>SOH</th>\n",
       "      <th>Charging_Cycles</th>\n",
       "      <th>Battery_Temp</th>\n",
       "      <th>Motor_RPM</th>\n",
       "      <th>Motor_Torque</th>\n",
       "      <th>Motor_Temp</th>\n",
       "      <th>Brake_Pad_Wear</th>\n",
       "      <th>Charging_Voltage</th>\n",
       "      <th>Tire_Pressure</th>\n",
       "      <th>DTC</th>\n",
       "      <th>user_type</th>\n",
       "    </tr>\n",
       "  </thead>\n",
       "  <tbody>\n",
       "    <tr>\n",
       "      <th>0</th>\n",
       "      <td>2020-01-01 00:00:00</td>\n",
       "      <td>20.0</td>\n",
       "      <td>99.999757</td>\n",
       "      <td>0.0</td>\n",
       "      <td>31.822998</td>\n",
       "      <td>0.0</td>\n",
       "      <td>0.0</td>\n",
       "      <td>64.937230</td>\n",
       "      <td>100.0</td>\n",
       "      <td>400.0</td>\n",
       "      <td>34.987175</td>\n",
       "      <td>0</td>\n",
       "      <td>1</td>\n",
       "    </tr>\n",
       "    <tr>\n",
       "      <th>1</th>\n",
       "      <td>2020-01-01 01:00:00</td>\n",
       "      <td>20.0</td>\n",
       "      <td>99.999495</td>\n",
       "      <td>0.0</td>\n",
       "      <td>31.596741</td>\n",
       "      <td>0.0</td>\n",
       "      <td>0.0</td>\n",
       "      <td>71.637683</td>\n",
       "      <td>100.0</td>\n",
       "      <td>400.0</td>\n",
       "      <td>34.976006</td>\n",
       "      <td>0</td>\n",
       "      <td>1</td>\n",
       "    </tr>\n",
       "    <tr>\n",
       "      <th>2</th>\n",
       "      <td>2020-01-01 02:00:00</td>\n",
       "      <td>20.0</td>\n",
       "      <td>99.999244</td>\n",
       "      <td>0.0</td>\n",
       "      <td>31.694791</td>\n",
       "      <td>0.0</td>\n",
       "      <td>0.0</td>\n",
       "      <td>76.626964</td>\n",
       "      <td>100.0</td>\n",
       "      <td>400.0</td>\n",
       "      <td>34.961510</td>\n",
       "      <td>0</td>\n",
       "      <td>1</td>\n",
       "    </tr>\n",
       "    <tr>\n",
       "      <th>3</th>\n",
       "      <td>2020-01-01 03:00:00</td>\n",
       "      <td>20.0</td>\n",
       "      <td>99.998996</td>\n",
       "      <td>0.0</td>\n",
       "      <td>29.370583</td>\n",
       "      <td>0.0</td>\n",
       "      <td>0.0</td>\n",
       "      <td>73.446945</td>\n",
       "      <td>100.0</td>\n",
       "      <td>400.0</td>\n",
       "      <td>34.949125</td>\n",
       "      <td>0</td>\n",
       "      <td>1</td>\n",
       "    </tr>\n",
       "    <tr>\n",
       "      <th>4</th>\n",
       "      <td>2020-01-01 04:00:00</td>\n",
       "      <td>20.0</td>\n",
       "      <td>99.998749</td>\n",
       "      <td>0.0</td>\n",
       "      <td>30.808790</td>\n",
       "      <td>0.0</td>\n",
       "      <td>0.0</td>\n",
       "      <td>70.240659</td>\n",
       "      <td>100.0</td>\n",
       "      <td>400.0</td>\n",
       "      <td>34.935932</td>\n",
       "      <td>0</td>\n",
       "      <td>1</td>\n",
       "    </tr>\n",
       "  </tbody>\n",
       "</table>\n",
       "</div>"
      ],
      "text/plain": [
       "            Unnamed: 0   SOC        SOH  Charging_Cycles  Battery_Temp  \\\n",
       "0  2020-01-01 00:00:00  20.0  99.999757              0.0     31.822998   \n",
       "1  2020-01-01 01:00:00  20.0  99.999495              0.0     31.596741   \n",
       "2  2020-01-01 02:00:00  20.0  99.999244              0.0     31.694791   \n",
       "3  2020-01-01 03:00:00  20.0  99.998996              0.0     29.370583   \n",
       "4  2020-01-01 04:00:00  20.0  99.998749              0.0     30.808790   \n",
       "\n",
       "   Motor_RPM  Motor_Torque  Motor_Temp  Brake_Pad_Wear  Charging_Voltage  \\\n",
       "0        0.0           0.0   64.937230           100.0             400.0   \n",
       "1        0.0           0.0   71.637683           100.0             400.0   \n",
       "2        0.0           0.0   76.626964           100.0             400.0   \n",
       "3        0.0           0.0   73.446945           100.0             400.0   \n",
       "4        0.0           0.0   70.240659           100.0             400.0   \n",
       "\n",
       "   Tire_Pressure DTC  user_type  \n",
       "0      34.987175   0          1  \n",
       "1      34.976006   0          1  \n",
       "2      34.961510   0          1  \n",
       "3      34.949125   0          1  \n",
       "4      34.935932   0          1  "
      ]
     },
     "metadata": {},
     "output_type": "display_data"
    }
   ],
   "source": [
    "# Step 1: Load the cleaned combined dataset\n",
    "file_path = 'Data/combined_user_profiles.csv'\n",
    "df = pd.read_csv(file_path)\n",
    "\n",
    "# Step 2: Display the shape and first few rows\n",
    "print(\"Dataset shape:\", df.shape)\n",
    "display(df.head())"
   ]
  },
  {
   "cell_type": "code",
   "execution_count": 14,
   "id": "1e93b98f-3161-4c00-9344-108188b615d6",
   "metadata": {},
   "outputs": [
    {
     "name": "stdout",
     "output_type": "stream",
     "text": [
      "<class 'pandas.core.frame.DataFrame'>\n",
      "RangeIndex: 131400 entries, 0 to 131399\n",
      "Data columns (total 13 columns):\n",
      " #   Column            Non-Null Count   Dtype  \n",
      "---  ------            --------------   -----  \n",
      " 0   Unnamed: 0        131400 non-null  object \n",
      " 1   SOC               131396 non-null  float64\n",
      " 2   SOH               131396 non-null  float64\n",
      " 3   Charging_Cycles   131396 non-null  float64\n",
      " 4   Battery_Temp      131396 non-null  float64\n",
      " 5   Motor_RPM         131396 non-null  float64\n",
      " 6   Motor_Torque      131396 non-null  float64\n",
      " 7   Motor_Temp        131396 non-null  float64\n",
      " 8   Brake_Pad_Wear    131396 non-null  float64\n",
      " 9   Charging_Voltage  131396 non-null  float64\n",
      " 10  Tire_Pressure     131396 non-null  float64\n",
      " 11  DTC               131396 non-null  object \n",
      " 12  user_type         131400 non-null  int64  \n",
      "dtypes: float64(10), int64(1), object(2)\n",
      "memory usage: 13.0+ MB\n"
     ]
    },
    {
     "data": {
      "text/plain": [
       "Unnamed: 0          0\n",
       "SOC                 4\n",
       "SOH                 4\n",
       "Charging_Cycles     4\n",
       "Battery_Temp        4\n",
       "Motor_RPM           4\n",
       "Motor_Torque        4\n",
       "Motor_Temp          4\n",
       "Brake_Pad_Wear      4\n",
       "Charging_Voltage    4\n",
       "Tire_Pressure       4\n",
       "DTC                 4\n",
       "user_type           0\n",
       "dtype: int64"
      ]
     },
     "execution_count": 14,
     "metadata": {},
     "output_type": "execute_result"
    }
   ],
   "source": [
    "df.info()\n",
    "df.isnull().sum()"
   ]
  },
  {
   "cell_type": "code",
   "execution_count": 11,
   "id": "2564642c-5731-47cf-9769-3a00baf30fc5",
   "metadata": {},
   "outputs": [
    {
     "data": {
      "text/plain": [
       "(131400, 13)"
      ]
     },
     "execution_count": 11,
     "metadata": {},
     "output_type": "execute_result"
    }
   ],
   "source": [
    "df.shape"
   ]
  },
  {
   "cell_type": "code",
   "execution_count": 15,
   "id": "0eef65b1-d502-4f92-b577-2e055d2d1e70",
   "metadata": {},
   "outputs": [
    {
     "data": {
      "text/plain": [
       "(131396, 12)"
      ]
     },
     "execution_count": 15,
     "metadata": {},
     "output_type": "execute_result"
    }
   ],
   "source": [
    "df.drop('Unnamed: 0', axis=1, inplace=True)\n",
    "df.dropna(inplace=True)\n",
    "df.shape"
   ]
  },
  {
   "cell_type": "code",
   "execution_count": 16,
   "id": "7d316f3c-ce94-4d23-9e91-3e8478f8b408",
   "metadata": {},
   "outputs": [
    {
     "name": "stdout",
     "output_type": "stream",
     "text": [
      "<class 'pandas.core.frame.DataFrame'>\n",
      "Index: 131396 entries, 0 to 131399\n",
      "Data columns (total 12 columns):\n",
      " #   Column            Non-Null Count   Dtype  \n",
      "---  ------            --------------   -----  \n",
      " 0   SOC               131396 non-null  float64\n",
      " 1   SOH               131396 non-null  float64\n",
      " 2   Charging_Cycles   131396 non-null  float64\n",
      " 3   Battery_Temp      131396 non-null  float64\n",
      " 4   Motor_RPM         131396 non-null  float64\n",
      " 5   Motor_Torque      131396 non-null  float64\n",
      " 6   Motor_Temp        131396 non-null  float64\n",
      " 7   Brake_Pad_Wear    131396 non-null  float64\n",
      " 8   Charging_Voltage  131396 non-null  float64\n",
      " 9   Tire_Pressure     131396 non-null  float64\n",
      " 10  DTC               131396 non-null  object \n",
      " 11  user_type         131396 non-null  int64  \n",
      "dtypes: float64(10), int64(1), object(1)\n",
      "memory usage: 13.0+ MB\n"
     ]
    },
    {
     "data": {
      "text/plain": [
       "SOC                 0\n",
       "SOH                 0\n",
       "Charging_Cycles     0\n",
       "Battery_Temp        0\n",
       "Motor_RPM           0\n",
       "Motor_Torque        0\n",
       "Motor_Temp          0\n",
       "Brake_Pad_Wear      0\n",
       "Charging_Voltage    0\n",
       "Tire_Pressure       0\n",
       "DTC                 0\n",
       "user_type           0\n",
       "dtype: int64"
      ]
     },
     "execution_count": 16,
     "metadata": {},
     "output_type": "execute_result"
    }
   ],
   "source": [
    "df.info()\n",
    "df.isnull().sum()"
   ]
  },
  {
   "cell_type": "code",
   "execution_count": null,
   "id": "7ad33772-efeb-489a-b8d5-bae8ad8722c8",
   "metadata": {},
   "outputs": [],
   "source": [
    "#Save cleaned file\n",
    "df.to_csv('Data/cleaned_combined_user_profiles.csv', index=False)"
   ]
  },
  {
   "cell_type": "code",
   "execution_count": 28,
   "id": "58a7cc1b-b286-4c3c-b542-71d4c41b78bd",
   "metadata": {},
   "outputs": [
    {
     "data": {
      "image/png": "[encoded data removed]",
      "text/plain": [
       "<Figure size 640x480 with 1 Axes>"
      ]
     },
     "metadata": {},
     "output_type": "display_data"
    },
    {
     "name": "stdout",
     "output_type": "stream",
     "text": [
      "DTC Value Counts:\n",
      "DTC\n",
      "0    129073\n",
      "1      2323\n",
      "Name: count, dtype: int64\n",
      "\n",
      "Percentage:\n",
      "DTC\n",
      "0    98.232062\n",
      "1     1.767938\n",
      "Name: proportion, dtype: float64\n"
     ]
    }
   ],
   "source": [
    "# Step 5: Check the distribution of the target variable (DTC)\n",
    "sns.countplot(x='DTC', data=df)\n",
    "plt.title(\"Distribution of DTC (0 = No Failure, 1 = Failure)\")\n",
    "plt.xlabel(\"DTC\")\n",
    "plt.ylabel(\"Count\")\n",
    "plt.show()\n",
    "\n",
    "# Print value counts\n",
    "print(\"DTC Value Counts:\")\n",
    "print(df['DTC'].value_counts())\n",
    "print(\"\\nPercentage:\")\n",
    "print(df['DTC'].value_counts(normalize=True) * 100)\n"
   ]
  },
  {
   "cell_type": "code",
   "execution_count": 20,
   "id": "acae5868-6798-460d-923b-4d7be1213e00",
   "metadata": {},
   "outputs": [
    {
     "name": "stdout",
     "output_type": "stream",
     "text": [
      "Shape of X (features): (131396, 10)\n",
      "Shape of y (target): (131396,)\n"
     ]
    }
   ],
   "source": [
    "# Step 6: Define the input features and target variable\n",
    "features = ['SOC', 'SOH', 'Charging_Cycles', 'Battery_Temp', 'Motor_RPM',\n",
    "            'Motor_Torque', 'Motor_Temp', 'Brake_Pad_Wear', 'Charging_Voltage', 'Tire_Pressure']\n",
    "\n",
    "X = df[features]\n",
    "y = df['DTC']\n",
    "\n",
    "# Confirm the dimensions of the input and output\n",
    "print(\"Shape of X (features):\", X.shape)\n",
    "print(\"Shape of y (target):\", y.shape)\n"
   ]
  },
  {
   "cell_type": "code",
   "execution_count": 25,
   "id": "e38463ee-1278-47da-a9b7-e2ea999223cb",
   "metadata": {},
   "outputs": [
    {
     "name": "stdout",
     "output_type": "stream",
     "text": [
      "Training set shape: (105116, 10) (105116,)\n",
      "Test set shape: (26280, 10) (26280,)\n",
      "\n",
      "Training set class distribution:\n",
      "DTC\n",
      "0    98.232429\n",
      "1     1.767571\n",
      "Name: proportion, dtype: float64\n",
      "\n",
      "Test set class distribution:\n",
      "DTC\n",
      "0    98.230594\n",
      "1     1.769406\n",
      "Name: proportion, dtype: float64\n"
     ]
    }
   ],
   "source": [
    "# Step 7: Split the data into training and testing sets (with stratification)\n",
    "\n",
    "X_train, X_test, y_train, y_test = train_test_split(\n",
    "    X, y, test_size=0.2, stratify=y, random_state=42\n",
    ")\n",
    "\n",
    "# Confirm shapes\n",
    "print(\"Training set shape:\", X_train.shape, y_train.shape)\n",
    "print(\"Test set shape:\", X_test.shape, y_test.shape)\n",
    "\n",
    "# Check class distribution in training and test sets\n",
    "print(\"\\nTraining set class distribution:\")\n",
    "print(y_train.value_counts(normalize=True) * 100)\n",
    "\n",
    "print(\"\\nTest set class distribution:\")\n",
    "print(y_test.value_counts(normalize=True) * 100)\n"
   ]
  },
  {
   "cell_type": "code",
   "execution_count": 26,
   "id": "cef33a12-4e38-4c0d-8ee4-d8bed6cb5a85",
   "metadata": {},
   "outputs": [
    {
     "name": "stdout",
     "output_type": "stream",
     "text": [
      "Scaled training features shape: (105116, 10)\n",
      "Scaled test features shape: (26280, 10)\n"
     ]
    }
   ],
   "source": [
    "# Step 8: Scale features for Logistic Regression\n",
    "\n",
    "scaler = StandardScaler()\n",
    "X_train_scaled = scaler.fit_transform(X_train)\n",
    "X_test_scaled = scaler.transform(X_test)\n",
    "\n",
    "# Confirm shapes\n",
    "print(\"Scaled training features shape:\", X_train_scaled.shape)\n",
    "print(\"Scaled test features shape:\", X_test_scaled.shape)\n"
   ]
  },
  {
   "cell_type": "code",
   "execution_count": 29,
   "id": "0d04102f-0332-4eb9-8ca1-cbb84cbd213b",
   "metadata": {},
   "outputs": [],
   "source": [
    "# Step 9: Train Logistic Regression model\n",
    "\n",
    "# Initialize and train the model\n",
    "lr_model = LogisticRegression(random_state=42)\n",
    "lr_model.fit(X_train_scaled, y_train)\n",
    "\n",
    "# Make predictions\n",
    "y_pred_lr = lr_model.predict(X_test_scaled)\n",
    "y_proba_lr = lr_model.predict_proba(X_test_scaled)[:, 1]  # For ROC AUC\n"
   ]
  },
  {
   "cell_type": "code",
   "execution_count": 52,
   "id": "379c6f97-cd52-43cd-86d7-2bc5edf0585e",
   "metadata": {},
   "outputs": [
    {
     "name": "stdout",
     "output_type": "stream",
     "text": [
      "Logistic Regression Evaluation:\n",
      "Accuracy: 0.9823059360730594\n",
      "Balanced Accuracy: 0.5\n",
      "Precision: 0.0\n",
      "Recall: 0.0\n",
      "F1 Score: 0.0\n",
      "ROC AUC: 0.8368597901944981\n"
     ]
    }
   ],
   "source": [
    "# Step 10: Evaluate model performance\n",
    "print(\"Logistic Regression Evaluation:\")\n",
    "print(\"Accuracy:\", accuracy_score(y_test, y_pred_lr))\n",
    "print(\"Balanced Accuracy:\", balanced_accuracy_score(y_test, y_pred_lr))\n",
    "print(\"Precision:\", precision_score(y_test, y_pred_lr))\n",
    "print(\"Recall:\", recall_score(y_test, y_pred_lr))\n",
    "print(\"F1 Score:\", f1_score(y_test, y_pred_lr))\n",
    "print(\"ROC AUC:\", roc_auc_score(y_test, y_proba_lr))\n"
   ]
  },
  {
   "cell_type": "code",
   "execution_count": 31,
   "id": "bc920cff-a331-48b3-ba28-14d3bfcff486",
   "metadata": {},
   "outputs": [
    {
     "data": {
      "image/png": "[encoded data removed]",
      "text/plain": [
       "<Figure size 640x480 with 2 Axes>"
      ]
     },
     "metadata": {},
     "output_type": "display_data"
    }
   ],
   "source": [
    "# Step 11: Plot confusion matrix\n",
    "cm = confusion_matrix(y_test, y_pred_lr)\n",
    "disp = ConfusionMatrixDisplay(confusion_matrix=cm, display_labels=['No Failure', 'Failure'])\n",
    "disp.plot(cmap='Blues')\n",
    "plt.title(\"Logistic Regression - Confusion Matrix\")\n",
    "plt.show()\n"
   ]
  },
  {
   "cell_type": "code",
   "execution_count": 34,
   "id": "2d0db583-bd45-48b0-8b02-7c1c2ee745e7",
   "metadata": {},
   "outputs": [],
   "source": [
    "# Step 12: Train Decision Tree model\n",
    "\n",
    "# Initialize and train the model\n",
    "dt_model = DecisionTreeClassifier(random_state=42)\n",
    "dt_model.fit(X_train, y_train)\n",
    "\n",
    "# Make predictions\n",
    "y_pred_dt = dt_model.predict(X_test)\n",
    "y_proba_dt = dt_model.predict_proba(X_test)[:, 1]\n"
   ]
  },
  {
   "cell_type": "code",
   "execution_count": 35,
   "id": "c533064e-5daf-4537-aa23-19cd2e57238a",
   "metadata": {},
   "outputs": [
    {
     "name": "stdout",
     "output_type": "stream",
     "text": [
      "Decision Tree Evaluation:\n",
      "Accuracy: 1.0\n",
      "Balanced Accuracy: 1.0\n",
      "Precision: 1.0\n",
      "Recall: 1.0\n",
      "F1 Score: 1.0\n",
      "ROC AUC: 1.0\n"
     ]
    }
   ],
   "source": [
    "# Step 13: Evaluate model performance\n",
    "print(\"Decision Tree Evaluation:\")\n",
    "print(\"Accuracy:\", accuracy_score(y_test, y_pred_dt))\n",
    "print(\"Balanced Accuracy:\", balanced_accuracy_score(y_test, y_pred_dt))\n",
    "print(\"Precision:\", precision_score(y_test, y_pred_dt))\n",
    "print(\"Recall:\", recall_score(y_test, y_pred_dt))\n",
    "print(\"F1 Score:\", f1_score(y_test, y_pred_dt))\n",
    "print(\"ROC AUC:\", roc_auc_score(y_test, y_proba_dt))\n"
   ]
  },
  {
   "cell_type": "code",
   "execution_count": 36,
   "id": "1ab4b0bd-4d63-4a4d-901b-82b3379ebe7b",
   "metadata": {},
   "outputs": [
    {
     "data": {
      "image/png": "[encoded data removed]",
      "text/plain": [
       "<Figure size 640x480 with 2 Axes>"
      ]
     },
     "metadata": {},
     "output_type": "display_data"
    }
   ],
   "source": [
    "# Step 14: Plot confusion matrix\n",
    "cm = confusion_matrix(y_test, y_pred_dt)\n",
    "disp = ConfusionMatrixDisplay(confusion_matrix=cm, display_labels=['No Failure', 'Failure'])\n",
    "disp.plot(cmap='Oranges')\n",
    "plt.title(\"Decision Tree - Confusion Matrix\")\n",
    "plt.show()\n"
   ]
  },
  {
   "cell_type": "code",
   "execution_count": 39,
   "id": "8b2f0a98-7a94-46ca-b12f-5fb836292bbc",
   "metadata": {},
   "outputs": [],
   "source": [
    "# Step 15: Train Random Forest model\n",
    "\n",
    "# Initialize and train the model\n",
    "rf_model = RandomForestClassifier(random_state=42)\n",
    "rf_model.fit(X_train, y_train)\n",
    "\n",
    "# Make predictions\n",
    "y_pred_rf = rf_model.predict(X_test)\n",
    "y_proba_rf = rf_model.predict_proba(X_test)[:, 1]\n"
   ]
  },
  {
   "cell_type": "code",
   "execution_count": 40,
   "id": "2f0df218-ee26-4680-8172-df74c0e6f45c",
   "metadata": {},
   "outputs": [
    {
     "name": "stdout",
     "output_type": "stream",
     "text": [
      "Random Forest Evaluation:\n",
      "Accuracy: 1.0\n",
      "Balanced Accuracy: 1.0\n",
      "Precision: 1.0\n",
      "Recall: 1.0\n",
      "F1 Score: 1.0\n",
      "ROC AUC: 1.0\n"
     ]
    }
   ],
   "source": [
    "# Step 16: Evaluate model performance\n",
    "print(\"Random Forest Evaluation:\")\n",
    "print(\"Accuracy:\", accuracy_score(y_test, y_pred_rf))\n",
    "print(\"Balanced Accuracy:\", balanced_accuracy_score(y_test, y_pred_rf))\n",
    "print(\"Precision:\", precision_score(y_test, y_pred_rf))\n",
    "print(\"Recall:\", recall_score(y_test, y_pred_rf))\n",
    "print(\"F1 Score:\", f1_score(y_test, y_pred_rf))\n",
    "print(\"ROC AUC:\", roc_auc_score(y_test, y_proba_rf))\n"
   ]
  },
  {
   "cell_type": "code",
   "execution_count": 41,
   "id": "3cf584e0-7c6a-4361-868e-5dda2b61dc94",
   "metadata": {},
   "outputs": [
    {
     "data": {
      "image/png": "[encoded data removed]",
      "text/plain": [
       "<Figure size 640x480 with 2 Axes>"
      ]
     },
     "metadata": {},
     "output_type": "display_data"
    }
   ],
   "source": [
    "# Step 17: Plot confusion matrix\n",
    "cm = confusion_matrix(y_test, y_pred_rf)\n",
    "disp = ConfusionMatrixDisplay(confusion_matrix=cm, display_labels=['No Failure', 'Failure'])\n",
    "disp.plot(cmap='Greens')\n",
    "plt.title(\"Random Forest - Confusion Matrix\")\n",
    "plt.show()\n"
   ]
  },
  {
   "cell_type": "code",
   "execution_count": 55,
   "id": "e05af2d4-9e62-48cc-a67d-8034b98d57f0",
   "metadata": {},
   "outputs": [],
   "source": [
    "# Step 18: Train XGBoost model\n",
    "\n",
    "# Initialize and train the model (basic parameters)\n",
    "xgb_model = XGBClassifier(use_label_encoder=False, eval_metric='logloss', random_state=42)\n",
    "xgb_model.fit(X_train, y_train)\n",
    "\n",
    "# Make predictions\n",
    "y_pred_xgb = xgb_model.predict(X_test)\n",
    "y_proba_xgb = xgb_model.predict_proba(X_test)[:, 1]\n"
   ]
  },
  {
   "cell_type": "code",
   "execution_count": 56,
   "id": "818124a3-808b-44fa-8f00-a794f00f6155",
   "metadata": {},
   "outputs": [
    {
     "name": "stdout",
     "output_type": "stream",
     "text": [
      "XGBoost Evaluation:\n",
      "Accuracy: 0.9954718417047184\n",
      "Balanced Accuracy: 0.9163908205406959\n",
      "Precision: 0.9023255813953488\n",
      "Recall: 0.8344086021505376\n",
      "F1 Score: 0.8670391061452514\n",
      "ROC AUC: 0.9970832994903772\n"
     ]
    }
   ],
   "source": [
    "# Step 19: Evaluate model performance\n",
    "print(\"XGBoost Evaluation:\")\n",
    "print(\"Accuracy:\", accuracy_score(y_test, y_pred_xgb))\n",
    "print(\"Balanced Accuracy:\", balanced_accuracy_score(y_test, y_pred_xgb))\n",
    "print(\"Precision:\", precision_score(y_test, y_pred_xgb))\n",
    "print(\"Recall:\", recall_score(y_test, y_pred_xgb))\n",
    "print(\"F1 Score:\", f1_score(y_test, y_pred_xgb))\n",
    "print(\"ROC AUC:\", roc_auc_score(y_test, y_proba_xgb))\n"
   ]
  },
  {
   "cell_type": "code",
   "execution_count": 57,
   "id": "281adedb-8c8e-4f4a-b81c-e57a02618c8d",
   "metadata": {},
   "outputs": [
    {
     "data": {
      "image/png": "[encoded data removed]",
      "text/plain": [
       "<Figure size 640x480 with 2 Axes>"
      ]
     },
     "metadata": {},
     "output_type": "display_data"
    }
   ],
   "source": [
    "# Step 20: Plot confusion matrix\n",
    "cm = confusion_matrix(y_test, y_pred_xgb)\n",
    "disp = ConfusionMatrixDisplay(confusion_matrix=cm, display_labels=['No Failure', 'Failure'])\n",
    "disp.plot(cmap='Purples')\n",
    "plt.title(\"XGBoost - Confusion Matrix\")\n",
    "plt.show()\n"
   ]
  },
  {
   "cell_type": "code",
   "execution_count": 58,
   "id": "b08a79a9-68a8-4682-8166-7920a36f158d",
   "metadata": {},
   "outputs": [
    {
     "data": {
      "text/html": [
       "<div>\n",
       "<style scoped>\n",
       "    .dataframe tbody tr th:only-of-type {\n",
       "        vertical-align: middle;\n",
       "    }\n",
       "\n",
       "    .dataframe tbody tr th {\n",
       "        vertical-align: top;\n",
       "    }\n",
       "\n",
       "    .dataframe thead th {\n",
       "        text-align: right;\n",
       "    }\n",
       "</style>\n",
       "<table border=\"1\" class=\"dataframe\">\n",
       "  <thead>\n",
       "    <tr style=\"text-align: right;\">\n",
       "      <th></th>\n",
       "      <th>Model</th>\n",
       "      <th>Accuracy</th>\n",
       "      <th>Balanced Accuracy</th>\n",
       "      <th>Precision</th>\n",
       "      <th>Recall</th>\n",
       "      <th>F1 Score</th>\n",
       "      <th>ROC AUC</th>\n",
       "    </tr>\n",
       "  </thead>\n",
       "  <tbody>\n",
       "    <tr>\n",
       "      <th>0</th>\n",
       "      <td>Logistic Regression</td>\n",
       "      <td>0.9823</td>\n",
       "      <td>0.5000</td>\n",
       "      <td>0.0000</td>\n",
       "      <td>0.0000</td>\n",
       "      <td>0.000</td>\n",
       "      <td>0.8369</td>\n",
       "    </tr>\n",
       "    <tr>\n",
       "      <th>1</th>\n",
       "      <td>Decision Tree</td>\n",
       "      <td>1.0000</td>\n",
       "      <td>1.0000</td>\n",
       "      <td>1.0000</td>\n",
       "      <td>1.0000</td>\n",
       "      <td>1.000</td>\n",
       "      <td>1.0000</td>\n",
       "    </tr>\n",
       "    <tr>\n",
       "      <th>2</th>\n",
       "      <td>Random Forest</td>\n",
       "      <td>1.0000</td>\n",
       "      <td>1.0000</td>\n",
       "      <td>1.0000</td>\n",
       "      <td>1.0000</td>\n",
       "      <td>1.000</td>\n",
       "      <td>1.0000</td>\n",
       "    </tr>\n",
       "    <tr>\n",
       "      <th>3</th>\n",
       "      <td>XGBoost</td>\n",
       "      <td>0.9955</td>\n",
       "      <td>0.9164</td>\n",
       "      <td>0.9023</td>\n",
       "      <td>0.8344</td>\n",
       "      <td>0.867</td>\n",
       "      <td>0.9971</td>\n",
       "    </tr>\n",
       "  </tbody>\n",
       "</table>\n",
       "</div>"
      ],
      "text/plain": [
       "                 Model  Accuracy  Balanced Accuracy  Precision  Recall  \\\n",
       "0  Logistic Regression    0.9823             0.5000     0.0000  0.0000   \n",
       "1        Decision Tree    1.0000             1.0000     1.0000  1.0000   \n",
       "2        Random Forest    1.0000             1.0000     1.0000  1.0000   \n",
       "3              XGBoost    0.9955             0.9164     0.9023  0.8344   \n",
       "\n",
       "   F1 Score  ROC AUC  \n",
       "0     0.000   0.8369  \n",
       "1     1.000   1.0000  \n",
       "2     1.000   1.0000  \n",
       "3     0.867   0.9971  "
      ]
     },
     "execution_count": 58,
     "metadata": {},
     "output_type": "execute_result"
    }
   ],
   "source": [
    "# Step 21: Create a comparison table of all models\n",
    "results = pd.DataFrame({\n",
    "    'Model': ['Logistic Regression', 'Decision Tree', 'Random Forest', 'XGBoost'],\n",
    "    'Accuracy': [\n",
    "        accuracy_score(y_test, y_pred_lr),\n",
    "        accuracy_score(y_test, y_pred_dt),\n",
    "        accuracy_score(y_test, y_pred_rf),\n",
    "        accuracy_score(y_test, y_pred_xgb)\n",
    "    ],\n",
    "    'Balanced Accuracy': [\n",
    "        balanced_accuracy_score(y_test, y_pred_lr),\n",
    "        balanced_accuracy_score(y_test, y_pred_dt),\n",
    "        balanced_accuracy_score(y_test, y_pred_rf),\n",
    "        balanced_accuracy_score(y_test, y_pred_xgb)\n",
    "    ],\n",
    "    'Precision': [\n",
    "        precision_score(y_test, y_pred_lr),\n",
    "        precision_score(y_test, y_pred_dt),\n",
    "        precision_score(y_test, y_pred_rf),\n",
    "        precision_score(y_test, y_pred_xgb)\n",
    "    ],\n",
    "    'Recall': [\n",
    "        recall_score(y_test, y_pred_lr),\n",
    "        recall_score(y_test, y_pred_dt),\n",
    "        recall_score(y_test, y_pred_rf),\n",
    "        recall_score(y_test, y_pred_xgb)\n",
    "    ],\n",
    "    'F1 Score': [\n",
    "        f1_score(y_test, y_pred_lr),\n",
    "        f1_score(y_test, y_pred_dt),\n",
    "        f1_score(y_test, y_pred_rf),\n",
    "        f1_score(y_test, y_pred_xgb)\n",
    "    ],\n",
    "    'ROC AUC': [\n",
    "        roc_auc_score(y_test, y_proba_lr),\n",
    "        roc_auc_score(y_test, y_proba_dt),\n",
    "        roc_auc_score(y_test, y_proba_rf),\n",
    "        roc_auc_score(y_test, y_proba_xgb)\n",
    "    ]\n",
    "})\n",
    "\n",
    "# Round for readability\n",
    "results_rounded = results.round(4)\n",
    "\n",
    "# Display the table\n",
    "results_rounded\n"
   ]
  },
  {
   "cell_type": "code",
   "execution_count": 59,
   "id": "429f6a63-ddce-4971-b6a4-8119e1e49a47",
   "metadata": {},
   "outputs": [
    {
     "name": "stdout",
     "output_type": "stream",
     "text": [
      "✅ Model comparison saved as 'model_comparison_unbalanced.csv'\n"
     ]
    }
   ],
   "source": [
    "# Step 22: Export comparison table to CSV\n",
    "results_rounded.to_csv('Data/model_comparison_unbalanced.csv', index=False)\n",
    "\n",
    "print(\"✅ Model comparison saved as 'model_comparison_unbalanced.csv'\")\n"
   ]
  },
  {
   "cell_type": "code",
   "execution_count": 61,
   "id": "6375a26d-d215-4c93-92a3-0dae1dc120fd",
   "metadata": {},
   "outputs": [
    {
     "data": {
      "text/plain": [
       "['Models/XGBoost_Imbalance.joblib']"
      ]
     },
     "execution_count": 61,
     "metadata": {},
     "output_type": "execute_result"
    }
   ],
   "source": [
    "#Save models\n",
    "\n",
    "#Logistic Regression\n",
    "dump(lr_model, 'Models/Logistic_Regression_Imbalance.joblib')\n",
    "\n",
    "#Decision Tree\n",
    "dump(dt_model, 'Models/Decision_Tree_Imbalance.joblib')\n",
    "\n",
    "#Random Forest\n",
    "dump(rf_model, 'Models/Random_Forest_Imbalance.joblib')\n",
    "\n",
    "#XGBoost\n",
    "dump(xgb_model, 'Models/XGBoost_Imbalance.joblib')"
   ]
  }
 ],
 "metadata": {
  "kernelspec": {
   "display_name": "Python 3 (ipykernel)",
   "language": "python",
   "name": "python3"
  },
  "language_info": {
   "codemirror_mode": {
    "name": "ipython",
    "version": 3
   },
   "file_extension": ".py",
   "mimetype": "text/x-python",
   "name": "python",
   "nbconvert_exporter": "python",
   "pygments_lexer": "ipython3",
   "version": "3.9.23"
  }
 },
 "nbformat": 4,
 "nbformat_minor": 5
}
