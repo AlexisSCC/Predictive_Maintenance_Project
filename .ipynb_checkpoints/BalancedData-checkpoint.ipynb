{
 "cells": [
  {
   "cell_type": "code",
   "execution_count": 30,
   "id": "adfb5904-20a5-4b57-8402-fe2208dff35f",
   "metadata": {},
   "outputs": [],
   "source": [
    "import pandas as pd\n",
    "import numpy as np\n",
    "import matplotlib.pyplot as plt\n",
    "import seaborn as sns\n",
    "import matplotlib.pyplot as plt\n",
    "import seaborn as sns\n",
    "from imblearn.over_sampling import SMOTE\n",
    "import warnings; warnings.filterwarnings('ignore')\n",
    "\n",
    "#Train models libraries\n",
    "from sklearn.model_selection import train_test_split\n",
    "from sklearn.preprocessing import StandardScaler\n",
    "from sklearn.tree import DecisionTreeClassifier\n",
    "from sklearn.linear_model import LogisticRegression\n",
    "from sklearn.ensemble import RandomForestClassifier\n",
    "from xgboost import XGBClassifier\n",
    "\n",
    "\n",
    "#Evaluation librarties\n",
    "from sklearn.metrics import accuracy_score, balanced_accuracy_score, precision_score, recall_score, f1_score, roc_auc_score, confusion_matrix, ConfusionMatrixDisplay\n",
    "\n",
    "#Save models\n",
    "from joblib import dump"
   ]
  },
  {
   "cell_type": "code",
   "execution_count": 6,
   "id": "23ed4115-fab4-4b7b-bb7d-7ae002544c3b",
   "metadata": {},
   "outputs": [
    {
     "name": "stdout",
     "output_type": "stream",
     "text": [
      "Dataset shape: (131396, 12)\n"
     ]
    },
    {
     "data": {
      "text/html": [
       "<div>\n",
       "<style scoped>\n",
       "    .dataframe tbody tr th:only-of-type {\n",
       "        vertical-align: middle;\n",
       "    }\n",
       "\n",
       "    .dataframe tbody tr th {\n",
       "        vertical-align: top;\n",
       "    }\n",
       "\n",
       "    .dataframe thead th {\n",
       "        text-align: right;\n",
       "    }\n",
       "</style>\n",
       "<table border=\"1\" class=\"dataframe\">\n",
       "  <thead>\n",
       "    <tr style=\"text-align: right;\">\n",
       "      <th></th>\n",
       "      <th>SOC</th>\n",
       "      <th>SOH</th>\n",
       "      <th>Charging_Cycles</th>\n",
       "      <th>Battery_Temp</th>\n",
       "      <th>Motor_RPM</th>\n",
       "      <th>Motor_Torque</th>\n",
       "      <th>Motor_Temp</th>\n",
       "      <th>Brake_Pad_Wear</th>\n",
       "      <th>Charging_Voltage</th>\n",
       "      <th>Tire_Pressure</th>\n",
       "      <th>DTC</th>\n",
       "      <th>user_type</th>\n",
       "    </tr>\n",
       "  </thead>\n",
       "  <tbody>\n",
       "    <tr>\n",
       "      <th>0</th>\n",
       "      <td>20.0</td>\n",
       "      <td>99.999757</td>\n",
       "      <td>0.0</td>\n",
       "      <td>31.822998</td>\n",
       "      <td>0.0</td>\n",
       "      <td>0.0</td>\n",
       "      <td>64.937230</td>\n",
       "      <td>100.0</td>\n",
       "      <td>400.0</td>\n",
       "      <td>34.987175</td>\n",
       "      <td>0</td>\n",
       "      <td>1</td>\n",
       "    </tr>\n",
       "    <tr>\n",
       "      <th>1</th>\n",
       "      <td>20.0</td>\n",
       "      <td>99.999495</td>\n",
       "      <td>0.0</td>\n",
       "      <td>31.596741</td>\n",
       "      <td>0.0</td>\n",
       "      <td>0.0</td>\n",
       "      <td>71.637683</td>\n",
       "      <td>100.0</td>\n",
       "      <td>400.0</td>\n",
       "      <td>34.976006</td>\n",
       "      <td>0</td>\n",
       "      <td>1</td>\n",
       "    </tr>\n",
       "    <tr>\n",
       "      <th>2</th>\n",
       "      <td>20.0</td>\n",
       "      <td>99.999244</td>\n",
       "      <td>0.0</td>\n",
       "      <td>31.694791</td>\n",
       "      <td>0.0</td>\n",
       "      <td>0.0</td>\n",
       "      <td>76.626964</td>\n",
       "      <td>100.0</td>\n",
       "      <td>400.0</td>\n",
       "      <td>34.961510</td>\n",
       "      <td>0</td>\n",
       "      <td>1</td>\n",
       "    </tr>\n",
       "    <tr>\n",
       "      <th>3</th>\n",
       "      <td>20.0</td>\n",
       "      <td>99.998996</td>\n",
       "      <td>0.0</td>\n",
       "      <td>29.370583</td>\n",
       "      <td>0.0</td>\n",
       "      <td>0.0</td>\n",
       "      <td>73.446945</td>\n",
       "      <td>100.0</td>\n",
       "      <td>400.0</td>\n",
       "      <td>34.949125</td>\n",
       "      <td>0</td>\n",
       "      <td>1</td>\n",
       "    </tr>\n",
       "    <tr>\n",
       "      <th>4</th>\n",
       "      <td>20.0</td>\n",
       "      <td>99.998749</td>\n",
       "      <td>0.0</td>\n",
       "      <td>30.808790</td>\n",
       "      <td>0.0</td>\n",
       "      <td>0.0</td>\n",
       "      <td>70.240659</td>\n",
       "      <td>100.0</td>\n",
       "      <td>400.0</td>\n",
       "      <td>34.935932</td>\n",
       "      <td>0</td>\n",
       "      <td>1</td>\n",
       "    </tr>\n",
       "  </tbody>\n",
       "</table>\n",
       "</div>"
      ],
      "text/plain": [
       "    SOC        SOH  Charging_Cycles  Battery_Temp  Motor_RPM  Motor_Torque  \\\n",
       "0  20.0  99.999757              0.0     31.822998        0.0           0.0   \n",
       "1  20.0  99.999495              0.0     31.596741        0.0           0.0   \n",
       "2  20.0  99.999244              0.0     31.694791        0.0           0.0   \n",
       "3  20.0  99.998996              0.0     29.370583        0.0           0.0   \n",
       "4  20.0  99.998749              0.0     30.808790        0.0           0.0   \n",
       "\n",
       "   Motor_Temp  Brake_Pad_Wear  Charging_Voltage  Tire_Pressure  DTC  user_type  \n",
       "0   64.937230           100.0             400.0      34.987175    0          1  \n",
       "1   71.637683           100.0             400.0      34.976006    0          1  \n",
       "2   76.626964           100.0             400.0      34.961510    0          1  \n",
       "3   73.446945           100.0             400.0      34.949125    0          1  \n",
       "4   70.240659           100.0             400.0      34.935932    0          1  "
      ]
     },
     "metadata": {},
     "output_type": "display_data"
    }
   ],
   "source": [
    "# Step 1: Load the cleaned combined dataset\n",
    "file_path = 'Data/cleaned_combined_user_profiles.csv'\n",
    "df = pd.read_csv(file_path)\n",
    "\n",
    "# Step 2: Display shape and first few rows\n",
    "print(\"Dataset shape:\", df.shape)\n",
    "display(df.head())\n"
   ]
  },
  {
   "cell_type": "code",
   "execution_count": 7,
   "id": "28f7a8ba-e9c2-4663-b73c-5d24479ef7d3",
   "metadata": {},
   "outputs": [
    {
     "name": "stdout",
     "output_type": "stream",
     "text": [
      "<class 'pandas.core.frame.DataFrame'>\n",
      "RangeIndex: 131396 entries, 0 to 131395\n",
      "Data columns (total 12 columns):\n",
      " #   Column            Non-Null Count   Dtype  \n",
      "---  ------            --------------   -----  \n",
      " 0   SOC               131396 non-null  float64\n",
      " 1   SOH               131396 non-null  float64\n",
      " 2   Charging_Cycles   131396 non-null  float64\n",
      " 3   Battery_Temp      131396 non-null  float64\n",
      " 4   Motor_RPM         131396 non-null  float64\n",
      " 5   Motor_Torque      131396 non-null  float64\n",
      " 6   Motor_Temp        131396 non-null  float64\n",
      " 7   Brake_Pad_Wear    131396 non-null  float64\n",
      " 8   Charging_Voltage  131396 non-null  float64\n",
      " 9   Tire_Pressure     131396 non-null  float64\n",
      " 10  DTC               131396 non-null  int64  \n",
      " 11  user_type         131396 non-null  int64  \n",
      "dtypes: float64(10), int64(2)\n",
      "memory usage: 12.0 MB\n"
     ]
    },
    {
     "data": {
      "text/plain": [
       "SOC                 0\n",
       "SOH                 0\n",
       "Charging_Cycles     0\n",
       "Battery_Temp        0\n",
       "Motor_RPM           0\n",
       "Motor_Torque        0\n",
       "Motor_Temp          0\n",
       "Brake_Pad_Wear      0\n",
       "Charging_Voltage    0\n",
       "Tire_Pressure       0\n",
       "DTC                 0\n",
       "user_type           0\n",
       "dtype: int64"
      ]
     },
     "execution_count": 7,
     "metadata": {},
     "output_type": "execute_result"
    }
   ],
   "source": [
    "# Step 4: Check data types and missing values\n",
    "df.info()\n",
    "df.isnull().sum()"
   ]
  },
  {
   "cell_type": "code",
   "execution_count": 8,
   "id": "628b12fb-158c-4c19-8063-ffaf4fd750d6",
   "metadata": {},
   "outputs": [
    {
     "data": {
      "image/png": "[encoded data removed]",
      "text/plain": [
       "<Figure size 640x480 with 1 Axes>"
      ]
     },
     "metadata": {},
     "output_type": "display_data"
    },
    {
     "name": "stdout",
     "output_type": "stream",
     "text": [
      "DTC Value Counts:\n",
      "DTC\n",
      "0    129073\n",
      "1      2323\n",
      "Name: count, dtype: int64\n",
      "\n",
      "Percentage:\n",
      "DTC\n",
      "0    98.232062\n",
      "1     1.767938\n",
      "Name: proportion, dtype: float64\n"
     ]
    }
   ],
   "source": [
    "# Step 5: Visualize and quantify target distribution (DTC)\n",
    "sns.countplot(x='DTC', data=df)\n",
    "plt.title(\"Distribution of DTC (0 = No Failure, 1 = Failure)\")\n",
    "plt.xlabel(\"DTC\")\n",
    "plt.ylabel(\"Count\")\n",
    "plt.show()\n",
    "\n",
    "print(\"DTC Value Counts:\")\n",
    "print(df['DTC'].value_counts())\n",
    "print(\"\\nPercentage:\")\n",
    "print(df['DTC'].value_counts(normalize=True) * 100)\n"
   ]
  },
  {
   "cell_type": "code",
   "execution_count": 9,
   "id": "1e55013c-62cb-4b0e-b280-274dde9cbe89",
   "metadata": {},
   "outputs": [
    {
     "name": "stdout",
     "output_type": "stream",
     "text": [
      "X shape: (131396, 10)\n",
      "y shape: (131396,)\n"
     ]
    }
   ],
   "source": [
    "# Step 6: Define input features and target variable\n",
    "features = ['SOC', 'SOH', 'Charging_Cycles', 'Battery_Temp', 'Motor_RPM',\n",
    "            'Motor_Torque', 'Motor_Temp', 'Brake_Pad_Wear', 'Charging_Voltage', 'Tire_Pressure']\n",
    "\n",
    "X = df[features]\n",
    "y = df['DTC']\n",
    "\n",
    "# Confirm shapes\n",
    "print(\"X shape:\", X.shape)\n",
    "print(\"y shape:\", y.shape)\n"
   ]
  },
  {
   "cell_type": "code",
   "execution_count": 13,
   "id": "8c9b3f0d-9515-4f89-b65a-31c7c3816354",
   "metadata": {},
   "outputs": [
    {
     "name": "stdout",
     "output_type": "stream",
     "text": [
      "Training set shape: (105116, 10) (105116,)\n",
      "Test set shape: (26280, 10) (26280,)\n",
      "\n",
      "Training class distribution:\n",
      "DTC\n",
      "0    98.232429\n",
      "1     1.767571\n",
      "Name: proportion, dtype: float64\n",
      "\n",
      "Test class distribution:\n",
      "DTC\n",
      "0    98.230594\n",
      "1     1.769406\n",
      "Name: proportion, dtype: float64\n"
     ]
    }
   ],
   "source": [
    "# Step 7: Split the data into training and testing sets (with stratification)\n",
    "\n",
    "X_train, X_test, y_train, y_test = train_test_split(\n",
    "    X, y, test_size=0.2, stratify=y, random_state=42\n",
    ")\n",
    "\n",
    "# Check shapes and class balance\n",
    "print(\"Training set shape:\", X_train.shape, y_train.shape)\n",
    "print(\"Test set shape:\", X_test.shape, y_test.shape)\n",
    "\n",
    "print(\"\\nTraining class distribution:\")\n",
    "print(y_train.value_counts(normalize=True) * 100)\n",
    "\n",
    "print(\"\\nTest class distribution:\")\n",
    "print(y_test.value_counts(normalize=True) * 100)\n"
   ]
  },
  {
   "cell_type": "code",
   "execution_count": 14,
   "id": "c6efcced-d696-49bc-b94b-734142371671",
   "metadata": {},
   "outputs": [
    {
     "name": "stdout",
     "output_type": "stream",
     "text": [
      "Balanced training set shape: (206516, 10) (206516,)\n",
      "\n",
      "Class distribution after SMOTE:\n",
      "DTC\n",
      "0    103258\n",
      "1    103258\n",
      "Name: count, dtype: int64\n",
      "\n",
      "Percentage:\n",
      "DTC\n",
      "0    50.0\n",
      "1    50.0\n",
      "Name: proportion, dtype: float64\n"
     ]
    }
   ],
   "source": [
    "# Step 8: Apply SMOTE to balance the training set\n",
    "\n",
    "smote = SMOTE(random_state=42)\n",
    "X_train_smote, y_train_smote = smote.fit_resample(X_train, y_train)\n",
    "\n",
    "# Check new class distribution\n",
    "print(\"Balanced training set shape:\", X_train_smote.shape, y_train_smote.shape)\n",
    "print(\"\\nClass distribution after SMOTE:\")\n",
    "print(y_train_smote.value_counts())\n",
    "print(\"\\nPercentage:\")\n",
    "print(y_train_smote.value_counts(normalize=True) * 100)\n"
   ]
  },
  {
   "cell_type": "code",
   "execution_count": 15,
   "id": "927f79af-c33f-4791-9f1d-db06a2a6a3b5",
   "metadata": {},
   "outputs": [
    {
     "name": "stdout",
     "output_type": "stream",
     "text": [
      "Scaled training features shape: (206516, 10)\n",
      "Scaled test features shape: (26280, 10)\n"
     ]
    }
   ],
   "source": [
    "# Step 9: Scale features for Logistic Regression\n",
    "\n",
    "scaler = StandardScaler()\n",
    "X_train_scaled = scaler.fit_transform(X_train_smote)  # Apply to SMOTE data\n",
    "X_test_scaled = scaler.transform(X_test)              # Test set remains unchanged\n",
    "\n",
    "# Confirm shapes\n",
    "print(\"Scaled training features shape:\", X_train_scaled.shape)\n",
    "print(\"Scaled test features shape:\", X_test_scaled.shape)\n"
   ]
  },
  {
   "cell_type": "code",
   "execution_count": 16,
   "id": "87f842b8-580b-4060-9e05-6a896c076095",
   "metadata": {},
   "outputs": [],
   "source": [
    "# Step 10: Train Logistic Regression model\n",
    "\n",
    "# Initialize and train the model\n",
    "lr_model = LogisticRegression(random_state=42)\n",
    "lr_model.fit(X_train_scaled, y_train_smote)\n",
    "\n",
    "# Make predictions\n",
    "y_pred_lr = lr_model.predict(X_test_scaled)\n",
    "y_proba_lr = lr_model.predict_proba(X_test_scaled)[:, 1]\n"
   ]
  },
  {
   "cell_type": "code",
   "execution_count": 17,
   "id": "74dd9fc9-fa49-4cf4-b603-304b1f279c77",
   "metadata": {},
   "outputs": [
    {
     "name": "stdout",
     "output_type": "stream",
     "text": [
      "Logistic Regression with SMOTE - Evaluation:\n",
      "Accuracy: 0.7507990867579909\n",
      "Balanced Accuracy: 0.8087452281431775\n",
      "Precision: 0.05861868833430064\n",
      "Recall: 0.8688172043010752\n",
      "F1 Score: 0.10982737528884055\n",
      "ROC AUC: 0.8296072759231837\n"
     ]
    }
   ],
   "source": [
    "# Step 11: Evaluate model performance\n",
    "print(\"Logistic Regression with SMOTE - Evaluation:\")\n",
    "print(\"Accuracy:\", accuracy_score(y_test, y_pred_lr))\n",
    "print(\"Balanced Accuracy:\", balanced_accuracy_score(y_test, y_pred_lr))\n",
    "print(\"Precision:\", precision_score(y_test, y_pred_lr))\n",
    "print(\"Recall:\", recall_score(y_test, y_pred_lr))\n",
    "print(\"F1 Score:\", f1_score(y_test, y_pred_lr))\n",
    "print(\"ROC AUC:\", roc_auc_score(y_test, y_proba_lr))\n"
   ]
  },
  {
   "cell_type": "code",
   "execution_count": 18,
   "id": "6f795e9d-5dff-415f-b694-0adc822942d5",
   "metadata": {},
   "outputs": [
    {
     "data": {
      "image/png": "[encoded data removed]",
      "text/plain": [
       "<Figure size 640x480 with 2 Axes>"
      ]
     },
     "metadata": {},
     "output_type": "display_data"
    }
   ],
   "source": [
    "# Step 12: Plot confusion matrix\n",
    "cm = confusion_matrix(y_test, y_pred_lr)\n",
    "disp = ConfusionMatrixDisplay(confusion_matrix=cm, display_labels=['No Failure', 'Failure'])\n",
    "disp.plot(cmap='Blues')\n",
    "plt.title(\"Logistic Regression with SMOTE - Confusion Matrix\")\n",
    "plt.show()\n"
   ]
  },
  {
   "cell_type": "code",
   "execution_count": 19,
   "id": "556909f2-78d7-43b6-8b41-61026c6dea4b",
   "metadata": {},
   "outputs": [],
   "source": [
    "# Step 13: Train Decision Tree model with SMOTE\n",
    "\n",
    "# Initialize and train the model\n",
    "dt_model = DecisionTreeClassifier(random_state=42)\n",
    "dt_model.fit(X_train_smote, y_train_smote)\n",
    "\n",
    "# Make predictions\n",
    "y_pred_dt = dt_model.predict(X_test)\n",
    "y_proba_dt = dt_model.predict_proba(X_test)[:, 1]\n"
   ]
  },
  {
   "cell_type": "code",
   "execution_count": 20,
   "id": "17644174-3c7f-4116-bb70-8b9670bf7db6",
   "metadata": {},
   "outputs": [
    {
     "name": "stdout",
     "output_type": "stream",
     "text": [
      "Decision Tree with SMOTE - Evaluation:\n",
      "Accuracy: 0.9908675799086758\n",
      "Balanced Accuracy: 0.9932397393363448\n",
      "Precision: 0.6604850213980028\n",
      "Recall: 0.9956989247311828\n",
      "F1 Score: 0.7941680960548885\n",
      "ROC AUC: 0.9932397393363448\n"
     ]
    }
   ],
   "source": [
    "# Step 14: Evaluate model performance\n",
    "print(\"Decision Tree with SMOTE - Evaluation:\")\n",
    "print(\"Accuracy:\", accuracy_score(y_test, y_pred_dt))\n",
    "print(\"Balanced Accuracy:\", balanced_accuracy_score(y_test, y_pred_dt))\n",
    "print(\"Precision:\", precision_score(y_test, y_pred_dt))\n",
    "print(\"Recall:\", recall_score(y_test, y_pred_dt))\n",
    "print(\"F1 Score:\", f1_score(y_test, y_pred_dt))\n",
    "print(\"ROC AUC:\", roc_auc_score(y_test, y_proba_dt))\n"
   ]
  },
  {
   "cell_type": "code",
   "execution_count": 21,
   "id": "c559e918-b6d0-4752-accb-67a321eb3762",
   "metadata": {},
   "outputs": [
    {
     "data": {
      "image/png": "[encoded data removed]",
      "text/plain": [
       "<Figure size 640x480 with 2 Axes>"
      ]
     },
     "metadata": {},
     "output_type": "display_data"
    }
   ],
   "source": [
    "# Step 15: Plot confusion matrix\n",
    "cm = confusion_matrix(y_test, y_pred_dt)\n",
    "disp = ConfusionMatrixDisplay(confusion_matrix=cm, display_labels=['No Failure', 'Failure'])\n",
    "disp.plot(cmap='Oranges')\n",
    "plt.title(\"Decision Tree with SMOTE - Confusion Matrix\")\n",
    "plt.show()\n"
   ]
  },
  {
   "cell_type": "code",
   "execution_count": 22,
   "id": "348a5a41-e47b-4d8c-9cf1-90ad626e2ad4",
   "metadata": {},
   "outputs": [],
   "source": [
    "# Step 16: Train Random Forest model with SMOTE\n",
    "\n",
    "# Initialize and train the model\n",
    "rf_model = RandomForestClassifier(random_state=42)\n",
    "rf_model.fit(X_train_smote, y_train_smote)\n",
    "\n",
    "# Make predictions\n",
    "y_pred_rf = rf_model.predict(X_test)\n",
    "y_proba_rf = rf_model.predict_proba(X_test)[:, 1]\n"
   ]
  },
  {
   "cell_type": "code",
   "execution_count": 23,
   "id": "1fdbeddb-4412-4056-a8d7-8cb1a85d5a9e",
   "metadata": {},
   "outputs": [
    {
     "name": "stdout",
     "output_type": "stream",
     "text": [
      "Random Forest with SMOTE - Evaluation:\n",
      "Accuracy: 0.999048706240487\n",
      "Balanced Accuracy: 0.9974039849299919\n",
      "Precision: 0.9526748971193416\n",
      "Recall: 0.9956989247311828\n",
      "F1 Score: 0.9737118822292324\n",
      "ROC AUC: 0.9999313977245037\n"
     ]
    }
   ],
   "source": [
    "# Step 17: Evaluate model performance\n",
    "print(\"Random Forest with SMOTE - Evaluation:\")\n",
    "print(\"Accuracy:\", accuracy_score(y_test, y_pred_rf))\n",
    "print(\"Balanced Accuracy:\", balanced_accuracy_score(y_test, y_pred_rf))\n",
    "print(\"Precision:\", precision_score(y_test, y_pred_rf))\n",
    "print(\"Recall:\", recall_score(y_test, y_pred_rf))\n",
    "print(\"F1 Score:\", f1_score(y_test, y_pred_rf))\n",
    "print(\"ROC AUC:\", roc_auc_score(y_test, y_proba_rf))\n"
   ]
  },
  {
   "cell_type": "code",
   "execution_count": 24,
   "id": "2780e16c-2539-4af5-8e18-4be3b1034c53",
   "metadata": {},
   "outputs": [
    {
     "data": {
      "image/png": "[encoded data removed]",
      "text/plain": [
       "<Figure size 640x480 with 2 Axes>"
      ]
     },
     "metadata": {},
     "output_type": "display_data"
    }
   ],
   "source": [
    "# Step 18: Plot confusion matrix\n",
    "cm = confusion_matrix(y_test, y_pred_rf)\n",
    "disp = ConfusionMatrixDisplay(confusion_matrix=cm, display_labels=['No Failure', 'Failure'])\n",
    "disp.plot(cmap='Greens')\n",
    "plt.title(\"Random Forest with SMOTE - Confusion Matrix\")\n",
    "plt.show()\n"
   ]
  },
  {
   "cell_type": "code",
   "execution_count": 25,
   "id": "68621462-b90f-411d-b804-fd916fe27e55",
   "metadata": {},
   "outputs": [],
   "source": [
    "# Step 19: Train XGBoost model with SMOTE\n",
    "\n",
    "# Initialize and train the model\n",
    "xgb_model = XGBClassifier(use_label_encoder=False, eval_metric='logloss', random_state=42)\n",
    "xgb_model.fit(X_train_smote, y_train_smote)\n",
    "\n",
    "# Make predictions\n",
    "y_pred_xgb = xgb_model.predict(X_test)\n",
    "y_proba_xgb = xgb_model.predict_proba(X_test)[:, 1]\n"
   ]
  },
  {
   "cell_type": "code",
   "execution_count": 26,
   "id": "40c21e3c-adc3-4c78-8015-8c8b365fea26",
   "metadata": {},
   "outputs": [
    {
     "name": "stdout",
     "output_type": "stream",
     "text": [
      "XGBoost with SMOTE - Evaluation:\n",
      "Accuracy: 0.9968797564687976\n",
      "Balanced Accuracy: 0.9794055719043067\n",
      "Precision: 0.8747553816046967\n",
      "Recall: 0.9612903225806452\n",
      "F1 Score: 0.9159836065573771\n",
      "ROC AUC: 0.9946247805414457\n"
     ]
    }
   ],
   "source": [
    "# Step 20: Evaluate model performance\n",
    "print(\"XGBoost with SMOTE - Evaluation:\")\n",
    "print(\"Accuracy:\", accuracy_score(y_test, y_pred_xgb))\n",
    "print(\"Balanced Accuracy:\", balanced_accuracy_score(y_test, y_pred_xgb))\n",
    "print(\"Precision:\", precision_score(y_test, y_pred_xgb))\n",
    "print(\"Recall:\", recall_score(y_test, y_pred_xgb))\n",
    "print(\"F1 Score:\", f1_score(y_test, y_pred_xgb))\n",
    "print(\"ROC AUC:\", roc_auc_score(y_test, y_proba_xgb))\n"
   ]
  },
  {
   "cell_type": "code",
   "execution_count": 27,
   "id": "3de825f2-1ada-4f85-af43-799923981c68",
   "metadata": {},
   "outputs": [
    {
     "data": {
      "image/png": "[encoded data removed]",
      "text/plain": [
       "<Figure size 640x480 with 2 Axes>"
      ]
     },
     "metadata": {},
     "output_type": "display_data"
    }
   ],
   "source": [
    "# Step 21: Plot confusion matrix\n",
    "cm = confusion_matrix(y_test, y_pred_xgb)\n",
    "disp = ConfusionMatrixDisplay(confusion_matrix=cm, display_labels=['No Failure', 'Failure'])\n",
    "disp.plot(cmap='Purples')\n",
    "plt.title(\"XGBoost with SMOTE - Confusion Matrix\")\n",
    "plt.show()\n"
   ]
  },
  {
   "cell_type": "code",
   "execution_count": 28,
   "id": "15f5dbe5-107c-4694-828f-23a266a1500f",
   "metadata": {},
   "outputs": [
    {
     "data": {
      "text/html": [
       "<div>\n",
       "<style scoped>\n",
       "    .dataframe tbody tr th:only-of-type {\n",
       "        vertical-align: middle;\n",
       "    }\n",
       "\n",
       "    .dataframe tbody tr th {\n",
       "        vertical-align: top;\n",
       "    }\n",
       "\n",
       "    .dataframe thead th {\n",
       "        text-align: right;\n",
       "    }\n",
       "</style>\n",
       "<table border=\"1\" class=\"dataframe\">\n",
       "  <thead>\n",
       "    <tr style=\"text-align: right;\">\n",
       "      <th></th>\n",
       "      <th>Model</th>\n",
       "      <th>Accuracy</th>\n",
       "      <th>Balanced Accuracy</th>\n",
       "      <th>Precision</th>\n",
       "      <th>Recall</th>\n",
       "      <th>F1 Score</th>\n",
       "      <th>ROC AUC</th>\n",
       "    </tr>\n",
       "  </thead>\n",
       "  <tbody>\n",
       "    <tr>\n",
       "      <th>0</th>\n",
       "      <td>Logistic Regression</td>\n",
       "      <td>0.7508</td>\n",
       "      <td>0.8087</td>\n",
       "      <td>0.0586</td>\n",
       "      <td>0.8688</td>\n",
       "      <td>0.1098</td>\n",
       "      <td>0.8296</td>\n",
       "    </tr>\n",
       "    <tr>\n",
       "      <th>1</th>\n",
       "      <td>Decision Tree</td>\n",
       "      <td>0.9909</td>\n",
       "      <td>0.9932</td>\n",
       "      <td>0.6605</td>\n",
       "      <td>0.9957</td>\n",
       "      <td>0.7942</td>\n",
       "      <td>0.9932</td>\n",
       "    </tr>\n",
       "    <tr>\n",
       "      <th>2</th>\n",
       "      <td>Random Forest</td>\n",
       "      <td>0.9990</td>\n",
       "      <td>0.9974</td>\n",
       "      <td>0.9527</td>\n",
       "      <td>0.9957</td>\n",
       "      <td>0.9737</td>\n",
       "      <td>0.9999</td>\n",
       "    </tr>\n",
       "    <tr>\n",
       "      <th>3</th>\n",
       "      <td>XGBoost</td>\n",
       "      <td>0.9969</td>\n",
       "      <td>0.9794</td>\n",
       "      <td>0.8748</td>\n",
       "      <td>0.9613</td>\n",
       "      <td>0.9160</td>\n",
       "      <td>0.9946</td>\n",
       "    </tr>\n",
       "  </tbody>\n",
       "</table>\n",
       "</div>"
      ],
      "text/plain": [
       "                 Model  Accuracy  Balanced Accuracy  Precision  Recall  \\\n",
       "0  Logistic Regression    0.7508             0.8087     0.0586  0.8688   \n",
       "1        Decision Tree    0.9909             0.9932     0.6605  0.9957   \n",
       "2        Random Forest    0.9990             0.9974     0.9527  0.9957   \n",
       "3              XGBoost    0.9969             0.9794     0.8748  0.9613   \n",
       "\n",
       "   F1 Score  ROC AUC  \n",
       "0    0.1098   0.8296  \n",
       "1    0.7942   0.9932  \n",
       "2    0.9737   0.9999  \n",
       "3    0.9160   0.9946  "
      ]
     },
     "execution_count": 28,
     "metadata": {},
     "output_type": "execute_result"
    }
   ],
   "source": [
    "# Step 21: Create a comparison table of all models\n",
    "results = pd.DataFrame({\n",
    "    'Model': ['Logistic Regression', 'Decision Tree', 'Random Forest', 'XGBoost'],\n",
    "    'Accuracy': [\n",
    "        accuracy_score(y_test, y_pred_lr),\n",
    "        accuracy_score(y_test, y_pred_dt),\n",
    "        accuracy_score(y_test, y_pred_rf),\n",
    "        accuracy_score(y_test, y_pred_xgb)\n",
    "    ],\n",
    "    'Balanced Accuracy': [\n",
    "        balanced_accuracy_score(y_test, y_pred_lr),\n",
    "        balanced_accuracy_score(y_test, y_pred_dt),\n",
    "        balanced_accuracy_score(y_test, y_pred_rf),\n",
    "        balanced_accuracy_score(y_test, y_pred_xgb)\n",
    "    ],\n",
    "    'Precision': [\n",
    "        precision_score(y_test, y_pred_lr),\n",
    "        precision_score(y_test, y_pred_dt),\n",
    "        precision_score(y_test, y_pred_rf),\n",
    "        precision_score(y_test, y_pred_xgb)\n",
    "    ],\n",
    "    'Recall': [\n",
    "        recall_score(y_test, y_pred_lr),\n",
    "        recall_score(y_test, y_pred_dt),\n",
    "        recall_score(y_test, y_pred_rf),\n",
    "        recall_score(y_test, y_pred_xgb)\n",
    "    ],\n",
    "    'F1 Score': [\n",
    "        f1_score(y_test, y_pred_lr),\n",
    "        f1_score(y_test, y_pred_dt),\n",
    "        f1_score(y_test, y_pred_rf),\n",
    "        f1_score(y_test, y_pred_xgb)\n",
    "    ],\n",
    "    'ROC AUC': [\n",
    "        roc_auc_score(y_test, y_proba_lr),\n",
    "        roc_auc_score(y_test, y_proba_dt),\n",
    "        roc_auc_score(y_test, y_proba_rf),\n",
    "        roc_auc_score(y_test, y_proba_xgb)\n",
    "    ]\n",
    "})\n",
    "\n",
    "# Round for readability\n",
    "results_rounded = results.round(4)\n",
    "\n",
    "# Display the table\n",
    "results_rounded\n"
   ]
  },
  {
   "cell_type": "code",
   "execution_count": 29,
   "id": "e0602247-ef33-43ae-ac93-870badb0e07d",
   "metadata": {},
   "outputs": [
    {
     "name": "stdout",
     "output_type": "stream",
     "text": [
      "✅ Model comparison saved as 'model_comparison_balanced.csv'\n"
     ]
    }
   ],
   "source": [
    "results_rounded.to_csv('Data/model_comparison_balanced.csv', index=False)\n",
    "\n",
    "print(\"✅ Model comparison saved as 'model_comparison_balanced.csv'\")"
   ]
  },
  {
   "cell_type": "code",
   "execution_count": 31,
   "id": "981bb102-d4aa-4a0f-9ce2-4926651b6740",
   "metadata": {},
   "outputs": [
    {
     "data": {
      "text/plain": [
       "['Models/XGBoost_Balance.joblib']"
      ]
     },
     "execution_count": 31,
     "metadata": {},
     "output_type": "execute_result"
    }
   ],
   "source": [
    "#Save models\n",
    "\n",
    "#Logistic Regression\n",
    "dump(lr_model, 'Models/Logistic_Regression_Balance.joblib')\n",
    "\n",
    "#Decision Tree\n",
    "dump(dt_model, 'Models/Decision_Tree_Balance.joblib')\n",
    "\n",
    "#Random Forest\n",
    "dump(rf_model, 'Models/Random_Forest_Balance.joblib')\n",
    "\n",
    "#XGBoost\n",
    "dump(xgb_model, 'Models/XGBoost_Balance.joblib')"
   ]
  }
 ],
 "metadata": {
  "kernelspec": {
   "display_name": "Python 3 (ipykernel)",
   "language": "python",
   "name": "python3"
  },
  "language_info": {
   "codemirror_mode": {
    "name": "ipython",
    "version": 3
   },
   "file_extension": ".py",
   "mimetype": "text/x-python",
   "name": "python",
   "nbconvert_exporter": "python",
   "pygments_lexer": "ipython3",
   "version": "3.9.23"
  }
 },
 "nbformat": 4,
 "nbformat_minor": 5
}
